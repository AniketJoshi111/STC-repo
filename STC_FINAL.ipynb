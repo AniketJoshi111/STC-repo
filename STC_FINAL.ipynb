{
  "nbformat": 4,
  "nbformat_minor": 0,
  "metadata": {
    "colab": {
      "provenance": [],
      "gpuType": "T4",
      "include_colab_link": true
    },
    "kernelspec": {
      "name": "python3",
      "display_name": "Python 3"
    },
    "language_info": {
      "name": "python"
    },
    "accelerator": "GPU"
  },
  "cells": [
    {
      "cell_type": "markdown",
      "metadata": {
        "id": "view-in-github",
        "colab_type": "text"
      },
      "source": [
        "<a href=\"https://colab.research.google.com/github/AniketJoshi111/STC-repo/blob/main/STC_FINAL.ipynb\" target=\"_parent\"><img src=\"https://colab.research.google.com/assets/colab-badge.svg\" alt=\"Open In Colab\"/></a>"
      ]
    },
    {
      "cell_type": "code",
      "execution_count": 5,
      "metadata": {
        "id": "Pr4Sbmsi0VKe"
      },
      "outputs": [],
      "source": [
        "import pandas as pd\n",
        "import numpy as np\n",
        "import matplotlib.pyplot as plt\n",
        "import seaborn as sns\n",
        "from sklearn.model_selection import train_test_split\n",
        "from sklearn.preprocessing import LabelEncoder, StandardScaler\n",
        "from sklearn.ensemble import RandomForestClassifier\n",
        "from sklearn.svm import SVC\n",
        "from sklearn.linear_model import LogisticRegression\n",
        "from sklearn.metrics import classification_report, accuracy_score\n",
        "from sklearn.linear_model import LogisticRegression\n",
        "from sklearn.preprocessing import OneHotEncoder\n",
        "from sklearn.model_selection import GridSearchCV\n",
        "from sklearn.model_selection import StratifiedKFold\n",
        "from sklearn.tree import DecisionTreeClassifier\n",
        "from sklearn.naive_bayes import GaussianNB\n",
        "from sklearn.neighbors import KNeighborsClassifier\n",
        "from sklearn.impute import SimpleImputer\n",
        "from sklearn.metrics import confusion_matrix\n",
        "from sklearn.metrics import accuracy_score, precision_score, recall_score, f1_score,roc_auc_score"
      ]
    },
    {
      "cell_type": "code",
      "source": [
        "from google.colab import files\n",
        "uploaded = files.upload()\n"
      ],
      "metadata": {
        "colab": {
          "base_uri": "https://localhost:8080/",
          "height": 73
        },
        "id": "kDnPTcy90zFF",
        "outputId": "37bb2939-d6d0-4118-9366-ee0880f66294"
      },
      "execution_count": 6,
      "outputs": [
        {
          "output_type": "display_data",
          "data": {
            "text/plain": [
              "<IPython.core.display.HTML object>"
            ],
            "text/html": [
              "\n",
              "     <input type=\"file\" id=\"files-c19818f5-25ca-4fec-aec3-3ba2921a7df8\" name=\"files[]\" multiple disabled\n",
              "        style=\"border:none\" />\n",
              "     <output id=\"result-c19818f5-25ca-4fec-aec3-3ba2921a7df8\">\n",
              "      Upload widget is only available when the cell has been executed in the\n",
              "      current browser session. Please rerun this cell to enable.\n",
              "      </output>\n",
              "      <script>// Copyright 2017 Google LLC\n",
              "//\n",
              "// Licensed under the Apache License, Version 2.0 (the \"License\");\n",
              "// you may not use this file except in compliance with the License.\n",
              "// You may obtain a copy of the License at\n",
              "//\n",
              "//      http://www.apache.org/licenses/LICENSE-2.0\n",
              "//\n",
              "// Unless required by applicable law or agreed to in writing, software\n",
              "// distributed under the License is distributed on an \"AS IS\" BASIS,\n",
              "// WITHOUT WARRANTIES OR CONDITIONS OF ANY KIND, either express or implied.\n",
              "// See the License for the specific language governing permissions and\n",
              "// limitations under the License.\n",
              "\n",
              "/**\n",
              " * @fileoverview Helpers for google.colab Python module.\n",
              " */\n",
              "(function(scope) {\n",
              "function span(text, styleAttributes = {}) {\n",
              "  const element = document.createElement('span');\n",
              "  element.textContent = text;\n",
              "  for (const key of Object.keys(styleAttributes)) {\n",
              "    element.style[key] = styleAttributes[key];\n",
              "  }\n",
              "  return element;\n",
              "}\n",
              "\n",
              "// Max number of bytes which will be uploaded at a time.\n",
              "const MAX_PAYLOAD_SIZE = 100 * 1024;\n",
              "\n",
              "function _uploadFiles(inputId, outputId) {\n",
              "  const steps = uploadFilesStep(inputId, outputId);\n",
              "  const outputElement = document.getElementById(outputId);\n",
              "  // Cache steps on the outputElement to make it available for the next call\n",
              "  // to uploadFilesContinue from Python.\n",
              "  outputElement.steps = steps;\n",
              "\n",
              "  return _uploadFilesContinue(outputId);\n",
              "}\n",
              "\n",
              "// This is roughly an async generator (not supported in the browser yet),\n",
              "// where there are multiple asynchronous steps and the Python side is going\n",
              "// to poll for completion of each step.\n",
              "// This uses a Promise to block the python side on completion of each step,\n",
              "// then passes the result of the previous step as the input to the next step.\n",
              "function _uploadFilesContinue(outputId) {\n",
              "  const outputElement = document.getElementById(outputId);\n",
              "  const steps = outputElement.steps;\n",
              "\n",
              "  const next = steps.next(outputElement.lastPromiseValue);\n",
              "  return Promise.resolve(next.value.promise).then((value) => {\n",
              "    // Cache the last promise value to make it available to the next\n",
              "    // step of the generator.\n",
              "    outputElement.lastPromiseValue = value;\n",
              "    return next.value.response;\n",
              "  });\n",
              "}\n",
              "\n",
              "/**\n",
              " * Generator function which is called between each async step of the upload\n",
              " * process.\n",
              " * @param {string} inputId Element ID of the input file picker element.\n",
              " * @param {string} outputId Element ID of the output display.\n",
              " * @return {!Iterable<!Object>} Iterable of next steps.\n",
              " */\n",
              "function* uploadFilesStep(inputId, outputId) {\n",
              "  const inputElement = document.getElementById(inputId);\n",
              "  inputElement.disabled = false;\n",
              "\n",
              "  const outputElement = document.getElementById(outputId);\n",
              "  outputElement.innerHTML = '';\n",
              "\n",
              "  const pickedPromise = new Promise((resolve) => {\n",
              "    inputElement.addEventListener('change', (e) => {\n",
              "      resolve(e.target.files);\n",
              "    });\n",
              "  });\n",
              "\n",
              "  const cancel = document.createElement('button');\n",
              "  inputElement.parentElement.appendChild(cancel);\n",
              "  cancel.textContent = 'Cancel upload';\n",
              "  const cancelPromise = new Promise((resolve) => {\n",
              "    cancel.onclick = () => {\n",
              "      resolve(null);\n",
              "    };\n",
              "  });\n",
              "\n",
              "  // Wait for the user to pick the files.\n",
              "  const files = yield {\n",
              "    promise: Promise.race([pickedPromise, cancelPromise]),\n",
              "    response: {\n",
              "      action: 'starting',\n",
              "    }\n",
              "  };\n",
              "\n",
              "  cancel.remove();\n",
              "\n",
              "  // Disable the input element since further picks are not allowed.\n",
              "  inputElement.disabled = true;\n",
              "\n",
              "  if (!files) {\n",
              "    return {\n",
              "      response: {\n",
              "        action: 'complete',\n",
              "      }\n",
              "    };\n",
              "  }\n",
              "\n",
              "  for (const file of files) {\n",
              "    const li = document.createElement('li');\n",
              "    li.append(span(file.name, {fontWeight: 'bold'}));\n",
              "    li.append(span(\n",
              "        `(${file.type || 'n/a'}) - ${file.size} bytes, ` +\n",
              "        `last modified: ${\n",
              "            file.lastModifiedDate ? file.lastModifiedDate.toLocaleDateString() :\n",
              "                                    'n/a'} - `));\n",
              "    const percent = span('0% done');\n",
              "    li.appendChild(percent);\n",
              "\n",
              "    outputElement.appendChild(li);\n",
              "\n",
              "    const fileDataPromise = new Promise((resolve) => {\n",
              "      const reader = new FileReader();\n",
              "      reader.onload = (e) => {\n",
              "        resolve(e.target.result);\n",
              "      };\n",
              "      reader.readAsArrayBuffer(file);\n",
              "    });\n",
              "    // Wait for the data to be ready.\n",
              "    let fileData = yield {\n",
              "      promise: fileDataPromise,\n",
              "      response: {\n",
              "        action: 'continue',\n",
              "      }\n",
              "    };\n",
              "\n",
              "    // Use a chunked sending to avoid message size limits. See b/62115660.\n",
              "    let position = 0;\n",
              "    do {\n",
              "      const length = Math.min(fileData.byteLength - position, MAX_PAYLOAD_SIZE);\n",
              "      const chunk = new Uint8Array(fileData, position, length);\n",
              "      position += length;\n",
              "\n",
              "      const base64 = btoa(String.fromCharCode.apply(null, chunk));\n",
              "      yield {\n",
              "        response: {\n",
              "          action: 'append',\n",
              "          file: file.name,\n",
              "          data: base64,\n",
              "        },\n",
              "      };\n",
              "\n",
              "      let percentDone = fileData.byteLength === 0 ?\n",
              "          100 :\n",
              "          Math.round((position / fileData.byteLength) * 100);\n",
              "      percent.textContent = `${percentDone}% done`;\n",
              "\n",
              "    } while (position < fileData.byteLength);\n",
              "  }\n",
              "\n",
              "  // All done.\n",
              "  yield {\n",
              "    response: {\n",
              "      action: 'complete',\n",
              "    }\n",
              "  };\n",
              "}\n",
              "\n",
              "scope.google = scope.google || {};\n",
              "scope.google.colab = scope.google.colab || {};\n",
              "scope.google.colab._files = {\n",
              "  _uploadFiles,\n",
              "  _uploadFilesContinue,\n",
              "};\n",
              "})(self);\n",
              "</script> "
            ]
          },
          "metadata": {}
        },
        {
          "output_type": "stream",
          "name": "stdout",
          "text": [
            "Saving StudentsPerformance_modified.csv to StudentsPerformance_modified.csv\n"
          ]
        }
      ]
    },
    {
      "cell_type": "code",
      "source": [
        "data = pd.read_csv('StudentsPerformance_modified.csv')\n",
        "print(data.head())\n"
      ],
      "metadata": {
        "colab": {
          "base_uri": "https://localhost:8080/"
        },
        "id": "gHvbB7AM1Gno",
        "outputId": "4433b4d6-5078-4809-c35b-e3d582353d62"
      },
      "execution_count": 7,
      "outputs": [
        {
          "output_type": "stream",
          "name": "stdout",
          "text": [
            "   gender race/ethnicity parental level of education         lunch  \\\n",
            "0  female        group B           bachelor's degree      standard   \n",
            "1  female        group C                some college      standard   \n",
            "2  female        group B             master's degree      standard   \n",
            "3    male        group A          associate's degree  free/reduced   \n",
            "4    male        group C                some college      standard   \n",
            "\n",
            "  test preparation course math score  reading score  writing score  \n",
            "0                    none         72           72.0           74.0  \n",
            "1               completed         69           90.0           88.0  \n",
            "2                    none         90           95.0           93.0  \n",
            "3                    none         47           57.0           44.0  \n",
            "4                    none         76           78.0           75.0  \n"
          ]
        }
      ]
    },
    {
      "cell_type": "code",
      "source": [
        "print(data.isnull().sum())\n"
      ],
      "metadata": {
        "colab": {
          "base_uri": "https://localhost:8080/"
        },
        "id": "GXdpoVaw1IYT",
        "outputId": "bca979d2-b6e8-4fef-b277-9576924918de"
      },
      "execution_count": 40,
      "outputs": [
        {
          "output_type": "stream",
          "name": "stdout",
          "text": [
            "gender                          0\n",
            "race/ethnicity                  0\n",
            "parental level of education     0\n",
            "lunch                           0\n",
            "test preparation course         0\n",
            "math score                     35\n",
            "reading score                   0\n",
            "writing score                   0\n",
            "result                          0\n",
            "dtype: int64\n"
          ]
        }
      ]
    },
    {
      "cell_type": "code",
      "source": [
        "data = data.dropna(subset=['math score', 'reading score', 'writing score'])\n",
        "\n",
        "data['math score'] = pd.to_numeric(data['math score'], errors='coerce')\n",
        "data['reading score'] = pd.to_numeric(data['reading score'], errors='coerce')\n",
        "data['writing score'] = pd.to_numeric(data['writing score'], errors='coerce')\n",
        "\n",
        "data['average_score'] = data[['math score', 'reading score', 'writing score']].mean(axis=1, skipna=True)\n",
        "\n",
        "\n",
        "threshold = 50\n",
        "# Assign 'pass' or 'fail' based on the average score\n",
        "data['result'] = data['average_score'].apply(lambda x: 'pass' if x >= threshold else 'fail')\n",
        "\n",
        "# Remove the 'average_score' column\n",
        "data.drop(columns=['average_score'], inplace=True)\n",
        "\n",
        "data.head()\n"
      ],
      "metadata": {
        "id": "lei6huj21fTD",
        "outputId": "67b89fe1-2f46-4fd9-ec43-346ec01747fb",
        "colab": {
          "base_uri": "https://localhost:8080/",
          "height": 241
        }
      },
      "execution_count": 42,
      "outputs": [
        {
          "output_type": "execute_result",
          "data": {
            "text/plain": [
              "   gender  race/ethnicity  parental level of education  lunch  \\\n",
              "0       0               1                            1      1   \n",
              "1       0               2                            4      1   \n",
              "2       0               1                            3      1   \n",
              "3       1               0                            0      0   \n",
              "4       1               2                            4      1   \n",
              "\n",
              "   test preparation course  math score  reading score  writing score result  \n",
              "0                        1        72.0           72.0           74.0   pass  \n",
              "1                        0        69.0           90.0           88.0   pass  \n",
              "2                        1        90.0           95.0           93.0   pass  \n",
              "3                        1        47.0           57.0           44.0   fail  \n",
              "4                        1        76.0           78.0           75.0   pass  "
            ],
            "text/html": [
              "\n",
              "  <div id=\"df-209f7fbf-9716-4b5d-8ff1-70ef680b4772\" class=\"colab-df-container\">\n",
              "    <div>\n",
              "<style scoped>\n",
              "    .dataframe tbody tr th:only-of-type {\n",
              "        vertical-align: middle;\n",
              "    }\n",
              "\n",
              "    .dataframe tbody tr th {\n",
              "        vertical-align: top;\n",
              "    }\n",
              "\n",
              "    .dataframe thead th {\n",
              "        text-align: right;\n",
              "    }\n",
              "</style>\n",
              "<table border=\"1\" class=\"dataframe\">\n",
              "  <thead>\n",
              "    <tr style=\"text-align: right;\">\n",
              "      <th></th>\n",
              "      <th>gender</th>\n",
              "      <th>race/ethnicity</th>\n",
              "      <th>parental level of education</th>\n",
              "      <th>lunch</th>\n",
              "      <th>test preparation course</th>\n",
              "      <th>math score</th>\n",
              "      <th>reading score</th>\n",
              "      <th>writing score</th>\n",
              "      <th>result</th>\n",
              "    </tr>\n",
              "  </thead>\n",
              "  <tbody>\n",
              "    <tr>\n",
              "      <th>0</th>\n",
              "      <td>0</td>\n",
              "      <td>1</td>\n",
              "      <td>1</td>\n",
              "      <td>1</td>\n",
              "      <td>1</td>\n",
              "      <td>72.0</td>\n",
              "      <td>72.0</td>\n",
              "      <td>74.0</td>\n",
              "      <td>pass</td>\n",
              "    </tr>\n",
              "    <tr>\n",
              "      <th>1</th>\n",
              "      <td>0</td>\n",
              "      <td>2</td>\n",
              "      <td>4</td>\n",
              "      <td>1</td>\n",
              "      <td>0</td>\n",
              "      <td>69.0</td>\n",
              "      <td>90.0</td>\n",
              "      <td>88.0</td>\n",
              "      <td>pass</td>\n",
              "    </tr>\n",
              "    <tr>\n",
              "      <th>2</th>\n",
              "      <td>0</td>\n",
              "      <td>1</td>\n",
              "      <td>3</td>\n",
              "      <td>1</td>\n",
              "      <td>1</td>\n",
              "      <td>90.0</td>\n",
              "      <td>95.0</td>\n",
              "      <td>93.0</td>\n",
              "      <td>pass</td>\n",
              "    </tr>\n",
              "    <tr>\n",
              "      <th>3</th>\n",
              "      <td>1</td>\n",
              "      <td>0</td>\n",
              "      <td>0</td>\n",
              "      <td>0</td>\n",
              "      <td>1</td>\n",
              "      <td>47.0</td>\n",
              "      <td>57.0</td>\n",
              "      <td>44.0</td>\n",
              "      <td>fail</td>\n",
              "    </tr>\n",
              "    <tr>\n",
              "      <th>4</th>\n",
              "      <td>1</td>\n",
              "      <td>2</td>\n",
              "      <td>4</td>\n",
              "      <td>1</td>\n",
              "      <td>1</td>\n",
              "      <td>76.0</td>\n",
              "      <td>78.0</td>\n",
              "      <td>75.0</td>\n",
              "      <td>pass</td>\n",
              "    </tr>\n",
              "  </tbody>\n",
              "</table>\n",
              "</div>\n",
              "    <div class=\"colab-df-buttons\">\n",
              "\n",
              "  <div class=\"colab-df-container\">\n",
              "    <button class=\"colab-df-convert\" onclick=\"convertToInteractive('df-209f7fbf-9716-4b5d-8ff1-70ef680b4772')\"\n",
              "            title=\"Convert this dataframe to an interactive table.\"\n",
              "            style=\"display:none;\">\n",
              "\n",
              "  <svg xmlns=\"http://www.w3.org/2000/svg\" height=\"24px\" viewBox=\"0 -960 960 960\">\n",
              "    <path d=\"M120-120v-720h720v720H120Zm60-500h600v-160H180v160Zm220 220h160v-160H400v160Zm0 220h160v-160H400v160ZM180-400h160v-160H180v160Zm440 0h160v-160H620v160ZM180-180h160v-160H180v160Zm440 0h160v-160H620v160Z\"/>\n",
              "  </svg>\n",
              "    </button>\n",
              "\n",
              "  <style>\n",
              "    .colab-df-container {\n",
              "      display:flex;\n",
              "      gap: 12px;\n",
              "    }\n",
              "\n",
              "    .colab-df-convert {\n",
              "      background-color: #E8F0FE;\n",
              "      border: none;\n",
              "      border-radius: 50%;\n",
              "      cursor: pointer;\n",
              "      display: none;\n",
              "      fill: #1967D2;\n",
              "      height: 32px;\n",
              "      padding: 0 0 0 0;\n",
              "      width: 32px;\n",
              "    }\n",
              "\n",
              "    .colab-df-convert:hover {\n",
              "      background-color: #E2EBFA;\n",
              "      box-shadow: 0px 1px 2px rgba(60, 64, 67, 0.3), 0px 1px 3px 1px rgba(60, 64, 67, 0.15);\n",
              "      fill: #174EA6;\n",
              "    }\n",
              "\n",
              "    .colab-df-buttons div {\n",
              "      margin-bottom: 4px;\n",
              "    }\n",
              "\n",
              "    [theme=dark] .colab-df-convert {\n",
              "      background-color: #3B4455;\n",
              "      fill: #D2E3FC;\n",
              "    }\n",
              "\n",
              "    [theme=dark] .colab-df-convert:hover {\n",
              "      background-color: #434B5C;\n",
              "      box-shadow: 0px 1px 3px 1px rgba(0, 0, 0, 0.15);\n",
              "      filter: drop-shadow(0px 1px 2px rgba(0, 0, 0, 0.3));\n",
              "      fill: #FFFFFF;\n",
              "    }\n",
              "  </style>\n",
              "\n",
              "    <script>\n",
              "      const buttonEl =\n",
              "        document.querySelector('#df-209f7fbf-9716-4b5d-8ff1-70ef680b4772 button.colab-df-convert');\n",
              "      buttonEl.style.display =\n",
              "        google.colab.kernel.accessAllowed ? 'block' : 'none';\n",
              "\n",
              "      async function convertToInteractive(key) {\n",
              "        const element = document.querySelector('#df-209f7fbf-9716-4b5d-8ff1-70ef680b4772');\n",
              "        const dataTable =\n",
              "          await google.colab.kernel.invokeFunction('convertToInteractive',\n",
              "                                                    [key], {});\n",
              "        if (!dataTable) return;\n",
              "\n",
              "        const docLinkHtml = 'Like what you see? Visit the ' +\n",
              "          '<a target=\"_blank\" href=https://colab.research.google.com/notebooks/data_table.ipynb>data table notebook</a>'\n",
              "          + ' to learn more about interactive tables.';\n",
              "        element.innerHTML = '';\n",
              "        dataTable['output_type'] = 'display_data';\n",
              "        await google.colab.output.renderOutput(dataTable, element);\n",
              "        const docLink = document.createElement('div');\n",
              "        docLink.innerHTML = docLinkHtml;\n",
              "        element.appendChild(docLink);\n",
              "      }\n",
              "    </script>\n",
              "  </div>\n",
              "\n",
              "\n",
              "<div id=\"df-cdaa1eaf-f96b-4a24-99f4-5d713eadbe49\">\n",
              "  <button class=\"colab-df-quickchart\" onclick=\"quickchart('df-cdaa1eaf-f96b-4a24-99f4-5d713eadbe49')\"\n",
              "            title=\"Suggest charts\"\n",
              "            style=\"display:none;\">\n",
              "\n",
              "<svg xmlns=\"http://www.w3.org/2000/svg\" height=\"24px\"viewBox=\"0 0 24 24\"\n",
              "     width=\"24px\">\n",
              "    <g>\n",
              "        <path d=\"M19 3H5c-1.1 0-2 .9-2 2v14c0 1.1.9 2 2 2h14c1.1 0 2-.9 2-2V5c0-1.1-.9-2-2-2zM9 17H7v-7h2v7zm4 0h-2V7h2v10zm4 0h-2v-4h2v4z\"/>\n",
              "    </g>\n",
              "</svg>\n",
              "  </button>\n",
              "\n",
              "<style>\n",
              "  .colab-df-quickchart {\n",
              "      --bg-color: #E8F0FE;\n",
              "      --fill-color: #1967D2;\n",
              "      --hover-bg-color: #E2EBFA;\n",
              "      --hover-fill-color: #174EA6;\n",
              "      --disabled-fill-color: #AAA;\n",
              "      --disabled-bg-color: #DDD;\n",
              "  }\n",
              "\n",
              "  [theme=dark] .colab-df-quickchart {\n",
              "      --bg-color: #3B4455;\n",
              "      --fill-color: #D2E3FC;\n",
              "      --hover-bg-color: #434B5C;\n",
              "      --hover-fill-color: #FFFFFF;\n",
              "      --disabled-bg-color: #3B4455;\n",
              "      --disabled-fill-color: #666;\n",
              "  }\n",
              "\n",
              "  .colab-df-quickchart {\n",
              "    background-color: var(--bg-color);\n",
              "    border: none;\n",
              "    border-radius: 50%;\n",
              "    cursor: pointer;\n",
              "    display: none;\n",
              "    fill: var(--fill-color);\n",
              "    height: 32px;\n",
              "    padding: 0;\n",
              "    width: 32px;\n",
              "  }\n",
              "\n",
              "  .colab-df-quickchart:hover {\n",
              "    background-color: var(--hover-bg-color);\n",
              "    box-shadow: 0 1px 2px rgba(60, 64, 67, 0.3), 0 1px 3px 1px rgba(60, 64, 67, 0.15);\n",
              "    fill: var(--button-hover-fill-color);\n",
              "  }\n",
              "\n",
              "  .colab-df-quickchart-complete:disabled,\n",
              "  .colab-df-quickchart-complete:disabled:hover {\n",
              "    background-color: var(--disabled-bg-color);\n",
              "    fill: var(--disabled-fill-color);\n",
              "    box-shadow: none;\n",
              "  }\n",
              "\n",
              "  .colab-df-spinner {\n",
              "    border: 2px solid var(--fill-color);\n",
              "    border-color: transparent;\n",
              "    border-bottom-color: var(--fill-color);\n",
              "    animation:\n",
              "      spin 1s steps(1) infinite;\n",
              "  }\n",
              "\n",
              "  @keyframes spin {\n",
              "    0% {\n",
              "      border-color: transparent;\n",
              "      border-bottom-color: var(--fill-color);\n",
              "      border-left-color: var(--fill-color);\n",
              "    }\n",
              "    20% {\n",
              "      border-color: transparent;\n",
              "      border-left-color: var(--fill-color);\n",
              "      border-top-color: var(--fill-color);\n",
              "    }\n",
              "    30% {\n",
              "      border-color: transparent;\n",
              "      border-left-color: var(--fill-color);\n",
              "      border-top-color: var(--fill-color);\n",
              "      border-right-color: var(--fill-color);\n",
              "    }\n",
              "    40% {\n",
              "      border-color: transparent;\n",
              "      border-right-color: var(--fill-color);\n",
              "      border-top-color: var(--fill-color);\n",
              "    }\n",
              "    60% {\n",
              "      border-color: transparent;\n",
              "      border-right-color: var(--fill-color);\n",
              "    }\n",
              "    80% {\n",
              "      border-color: transparent;\n",
              "      border-right-color: var(--fill-color);\n",
              "      border-bottom-color: var(--fill-color);\n",
              "    }\n",
              "    90% {\n",
              "      border-color: transparent;\n",
              "      border-bottom-color: var(--fill-color);\n",
              "    }\n",
              "  }\n",
              "</style>\n",
              "\n",
              "  <script>\n",
              "    async function quickchart(key) {\n",
              "      const quickchartButtonEl =\n",
              "        document.querySelector('#' + key + ' button');\n",
              "      quickchartButtonEl.disabled = true;  // To prevent multiple clicks.\n",
              "      quickchartButtonEl.classList.add('colab-df-spinner');\n",
              "      try {\n",
              "        const charts = await google.colab.kernel.invokeFunction(\n",
              "            'suggestCharts', [key], {});\n",
              "      } catch (error) {\n",
              "        console.error('Error during call to suggestCharts:', error);\n",
              "      }\n",
              "      quickchartButtonEl.classList.remove('colab-df-spinner');\n",
              "      quickchartButtonEl.classList.add('colab-df-quickchart-complete');\n",
              "    }\n",
              "    (() => {\n",
              "      let quickchartButtonEl =\n",
              "        document.querySelector('#df-cdaa1eaf-f96b-4a24-99f4-5d713eadbe49 button');\n",
              "      quickchartButtonEl.style.display =\n",
              "        google.colab.kernel.accessAllowed ? 'block' : 'none';\n",
              "    })();\n",
              "  </script>\n",
              "</div>\n",
              "\n",
              "    </div>\n",
              "  </div>\n"
            ],
            "application/vnd.google.colaboratory.intrinsic+json": {
              "type": "dataframe",
              "variable_name": "data",
              "summary": "{\n  \"name\": \"data\",\n  \"rows\": 943,\n  \"fields\": [\n    {\n      \"column\": \"gender\",\n      \"properties\": {\n        \"dtype\": \"number\",\n        \"std\": 0,\n        \"min\": 0,\n        \"max\": 1,\n        \"num_unique_values\": 2,\n        \"samples\": [\n          1,\n          0\n        ],\n        \"semantic_type\": \"\",\n        \"description\": \"\"\n      }\n    },\n    {\n      \"column\": \"race/ethnicity\",\n      \"properties\": {\n        \"dtype\": \"number\",\n        \"std\": 1,\n        \"min\": 0,\n        \"max\": 4,\n        \"num_unique_values\": 5,\n        \"samples\": [\n          2,\n          4\n        ],\n        \"semantic_type\": \"\",\n        \"description\": \"\"\n      }\n    },\n    {\n      \"column\": \"parental level of education\",\n      \"properties\": {\n        \"dtype\": \"number\",\n        \"std\": 1,\n        \"min\": 0,\n        \"max\": 5,\n        \"num_unique_values\": 6,\n        \"samples\": [\n          1,\n          4\n        ],\n        \"semantic_type\": \"\",\n        \"description\": \"\"\n      }\n    },\n    {\n      \"column\": \"lunch\",\n      \"properties\": {\n        \"dtype\": \"number\",\n        \"std\": 0,\n        \"min\": 0,\n        \"max\": 1,\n        \"num_unique_values\": 2,\n        \"samples\": [\n          0,\n          1\n        ],\n        \"semantic_type\": \"\",\n        \"description\": \"\"\n      }\n    },\n    {\n      \"column\": \"test preparation course\",\n      \"properties\": {\n        \"dtype\": \"number\",\n        \"std\": 0,\n        \"min\": 0,\n        \"max\": 1,\n        \"num_unique_values\": 2,\n        \"samples\": [\n          0,\n          1\n        ],\n        \"semantic_type\": \"\",\n        \"description\": \"\"\n      }\n    },\n    {\n      \"column\": \"math score\",\n      \"properties\": {\n        \"dtype\": \"number\",\n        \"std\": 18.369580003190595,\n        \"min\": -89.0,\n        \"max\": 334.0,\n        \"num_unique_values\": 84,\n        \"samples\": [\n          -89.0,\n          72.0\n        ],\n        \"semantic_type\": \"\",\n        \"description\": \"\"\n      }\n    },\n    {\n      \"column\": \"reading score\",\n      \"properties\": {\n        \"dtype\": \"number\",\n        \"std\": 15.99434793663223,\n        \"min\": 3.0,\n        \"max\": 100.0,\n        \"num_unique_values\": 80,\n        \"samples\": [\n          71.0,\n          72.0\n        ],\n        \"semantic_type\": \"\",\n        \"description\": \"\"\n      }\n    },\n    {\n      \"column\": \"writing score\",\n      \"properties\": {\n        \"dtype\": \"number\",\n        \"std\": 30.11518082693878,\n        \"min\": 10.0,\n        \"max\": 567.0,\n        \"num_unique_values\": 81,\n        \"samples\": [\n          76.0,\n          74.0\n        ],\n        \"semantic_type\": \"\",\n        \"description\": \"\"\n      }\n    },\n    {\n      \"column\": \"result\",\n      \"properties\": {\n        \"dtype\": \"category\",\n        \"num_unique_values\": 2,\n        \"samples\": [\n          \"fail\",\n          \"pass\"\n        ],\n        \"semantic_type\": \"\",\n        \"description\": \"\"\n      }\n    }\n  ]\n}"
            }
          },
          "metadata": {},
          "execution_count": 42
        }
      ]
    },
    {
      "cell_type": "code",
      "source": [
        "categorical_cols = data.select_dtypes(include=['object']).columns.tolist()\n",
        "print(categorical_cols)\n",
        "categorical_cols.remove('result')\n",
        "#removed grades becoz it will be used for testing\n",
        "\n"
      ],
      "metadata": {
        "id": "BGsew3XW1hgi",
        "outputId": "24458f8a-b766-48f5-e42a-312ed3d68ab7",
        "colab": {
          "base_uri": "https://localhost:8080/"
        }
      },
      "execution_count": 44,
      "outputs": [
        {
          "output_type": "stream",
          "name": "stdout",
          "text": [
            "['result']\n"
          ]
        }
      ]
    },
    {
      "cell_type": "markdown",
      "source": [],
      "metadata": {
        "id": "ABWjFKp4jo4j"
      }
    },
    {
      "cell_type": "code",
      "source": [
        "le = LabelEncoder()\n",
        "for col in categorical_cols:\n",
        "    data[col] = le.fit_transform(data[col])\n",
        "\n",
        "print(data.head())"
      ],
      "metadata": {
        "id": "FEDroWdY1lJ8",
        "outputId": "caf37b8e-106e-4dc3-d110-c644be92d031",
        "colab": {
          "base_uri": "https://localhost:8080/"
        }
      },
      "execution_count": 45,
      "outputs": [
        {
          "output_type": "stream",
          "name": "stdout",
          "text": [
            "   gender  race/ethnicity  parental level of education  lunch  \\\n",
            "0       0               1                            1      1   \n",
            "1       0               2                            4      1   \n",
            "2       0               1                            3      1   \n",
            "3       1               0                            0      0   \n",
            "4       1               2                            4      1   \n",
            "\n",
            "   test preparation course  math score  reading score  writing score result  \n",
            "0                        1        72.0           72.0           74.0   pass  \n",
            "1                        0        69.0           90.0           88.0   pass  \n",
            "2                        1        90.0           95.0           93.0   pass  \n",
            "3                        1        47.0           57.0           44.0   fail  \n",
            "4                        1        76.0           78.0           75.0   pass  \n"
          ]
        }
      ]
    },
    {
      "cell_type": "code",
      "source": [
        "X = data.drop('result', axis=1)\n",
        "y = data['result']\n",
        "print(X.head())\n",
        "print(y.head())\n"
      ],
      "metadata": {
        "id": "cJYFqTPj1m8j",
        "outputId": "7c03b323-c2ba-4ab0-ff19-e52435cc8f65",
        "colab": {
          "base_uri": "https://localhost:8080/"
        }
      },
      "execution_count": 46,
      "outputs": [
        {
          "output_type": "stream",
          "name": "stdout",
          "text": [
            "   gender  race/ethnicity  parental level of education  lunch  \\\n",
            "0       0               1                            1      1   \n",
            "1       0               2                            4      1   \n",
            "2       0               1                            3      1   \n",
            "3       1               0                            0      0   \n",
            "4       1               2                            4      1   \n",
            "\n",
            "   test preparation course  math score  reading score  writing score  \n",
            "0                        1        72.0           72.0           74.0  \n",
            "1                        0        69.0           90.0           88.0  \n",
            "2                        1        90.0           95.0           93.0  \n",
            "3                        1        47.0           57.0           44.0  \n",
            "4                        1        76.0           78.0           75.0  \n",
            "0    pass\n",
            "1    pass\n",
            "2    pass\n",
            "3    fail\n",
            "4    pass\n",
            "Name: result, dtype: object\n"
          ]
        }
      ]
    },
    {
      "cell_type": "code",
      "source": [],
      "metadata": {
        "id": "WSKjD0fljqJ0"
      },
      "execution_count": null,
      "outputs": []
    },
    {
      "cell_type": "code",
      "source": [
        "X_train, X_test, y_train, y_test = train_test_split(X, y, train_size=0.7, random_state=42)\n"
      ],
      "metadata": {
        "id": "mliJgisg1qB6"
      },
      "execution_count": 47,
      "outputs": []
    },
    {
      "cell_type": "markdown",
      "source": [],
      "metadata": {
        "id": "gYTrrSvxNwL5"
      }
    },
    {
      "cell_type": "code",
      "source": [
        "scaler = StandardScaler()\n",
        "X_train = scaler.fit_transform(X_train)\n",
        "X_test = scaler.transform(X_test)\n"
      ],
      "metadata": {
        "id": "-bJiBLMH1swF"
      },
      "execution_count": 48,
      "outputs": []
    },
    {
      "cell_type": "code",
      "source": [
        "best_rf_model = RandomForestClassifier(n_estimators=100, random_state=42)\n",
        "svm_model = SVC(kernel='rbf',probability=True)\n",
        "\n",
        "# Train a third model (e.g., Decision Tree)\n",
        "dt_model = DecisionTreeClassifier(criterion='entropy',max_depth=10)\n",
        "\n",
        "nb_model = GaussianNB(var_smoothing=1.0)\n",
        "knn_model = KNeighborsClassifier(weights='uniform',n_neighbors=11,metric=\"euclidean\",algorithm='auto')\n",
        "\n",
        "#meta model\n",
        "meta_model = LogisticRegression()\n",
        "\n",
        "#meta model : Logisitic regression\n",
        "\n",
        "enc = OneHotEncoder(handle_unknown='ignore')\n"
      ],
      "metadata": {
        "id": "jBoH2E161ujr"
      },
      "execution_count": 49,
      "outputs": []
    },
    {
      "cell_type": "code",
      "source": [
        "# Initialize StratifiedKFold with 10 splits\n",
        "skf = StratifiedKFold(n_splits=10, shuffle=True, random_state=42)\n",
        "\n",
        "imputer = SimpleImputer(strategy='mean')\n",
        "# Arrays to store fold accuracies\n",
        "rf_accuracies = []\n",
        "svm_accuracies = []\n",
        "dt_accuracies = []\n",
        "nb_accuracies = []\n",
        "knn_accuracies = []\n",
        "stack_accuracies = []\n",
        "\n",
        "# Loop through each fold\n",
        "for train_index, test_index in skf.split(X_train, y_train):\n",
        "    # Split the data into training and testing sets for this fold\n",
        "    X_train_fold, X_test_fold = X_train[train_index], X_train[test_index]\n",
        "    y_train_fold, y_test_fold = y_train.iloc[train_index], y_train.iloc[test_index]\n",
        "\n",
        "    X_train_fold = imputer.fit_transform(X_train_fold)\n",
        "    X_test_fold = imputer.transform(X_test_fold)\n",
        "\n",
        "    # Train each model on the training fold\n",
        "    best_rf_model.fit(X_train_fold, y_train_fold)\n",
        "    svm_model.fit(X_train_fold, y_train_fold)\n",
        "    dt_model.fit(X_train_fold, y_train_fold)\n",
        "    nb_model.fit(X_train_fold, y_train_fold)\n",
        "    knn_model.fit(X_train_fold, y_train_fold)\n",
        "\n",
        "\n",
        "    # Make predictions on the test fold\n",
        "    rf_pred = best_rf_model.predict(X_test_fold)\n",
        "    svm_pred = svm_model.predict(X_test_fold)\n",
        "    dt_pred = dt_model.predict(X_test_fold)\n",
        "    nb_pred = nb_model.predict(X_test_fold)\n",
        "    knn_pred = knn_model.predict(X_test_fold)\n",
        "\n",
        "\n",
        "    stacked_features = np.column_stack((rf_pred, svm_pred, dt_pred, nb_pred, knn_pred))\n",
        "    stacked_features_encoded = enc.fit_transform(stacked_features).toarray()\n",
        "\n",
        "    # Make predictions on the training fold for the meta-model\n",
        "    rf_pred_train = best_rf_model.predict(X_train_fold)\n",
        "    svm_pred_train = svm_model.predict(X_train_fold)\n",
        "    dt_pred_train = dt_model.predict(X_train_fold)\n",
        "    nb_pred_train = nb_model.predict(X_train_fold)\n",
        "    knn_pred_train = knn_model.predict(X_train_fold)\n",
        "\n",
        "    # Stack the predictions from base models on the training fold\n",
        "    stacked_features_train = np.column_stack((rf_pred_train, svm_pred_train, dt_pred_train, nb_pred_train, knn_pred_train))\n",
        "    stacked_features_train_encoded = enc.transform(stacked_features_train).toarray()\n",
        "\n",
        "    # Train the meta-model on the stacked features from the training fold\n",
        "    meta_model.fit(stacked_features_train_encoded, y_train_fold)\n",
        "\n",
        "    # Predict using the meta-model on the stacked features from the test fold\n",
        "    meta_pred = meta_model.predict(stacked_features_encoded)\n",
        "\n",
        "\n",
        "    rf_accuracy = accuracy_score(y_test_fold, rf_pred)\n",
        "    svm_accuracy = accuracy_score(y_test_fold, svm_pred)\n",
        "    dt_accuracy = accuracy_score(y_test_fold, dt_pred)\n",
        "    nb_accuracy = accuracy_score(y_test_fold, nb_pred)\n",
        "    knn_accuracy = accuracy_score(y_test_fold, knn_pred)\n",
        "    stack_accuracy = accuracy_score(y_test_fold, meta_pred)\n",
        "\n",
        "\n",
        "    rf_accuracies.append(rf_accuracy)\n",
        "\n",
        "    svm_accuracies.append(svm_accuracy)\n",
        "    dt_accuracies.append(dt_accuracy)\n",
        "    nb_accuracies.append(nb_accuracy)\n",
        "    knn_accuracies.append(knn_accuracy)\n",
        "    stack_accuracies.append(stack_accuracy)\n",
        "    # 1. Model Comparison - Box Plot\n",
        "plt.figure(figsize=(10, 6))\n",
        "sns.boxplot(data=[rf_accuracies, svm_accuracies, dt_accuracies, nb_accuracies, knn_accuracies, stack_accuracies])\n",
        "plt.xticks(ticks=range(6), labels=['RF', 'SVM', 'DT', 'NB', 'KNN', 'Stacking'])\n",
        "plt.title('Model Comparison - Cross-Validation Accuracies')\n",
        "plt.ylabel('Accuracy')\n",
        "plt.show()\n",
        "\n",
        "print(\"Random Forest Avg Accuracy:\", np.mean(rf_accuracies))\n",
        "print(\"SVM Avg Accuracy:\", np.mean(svm_accuracies))\n",
        "print(\"Decision Tree Avg Accuracy:\", np.mean(dt_accuracies))\n",
        "print(\"Naive Bayes Avg Accuracy:\", np.mean(nb_accuracies))\n",
        "print(\"KNN Avg Accuracy:\", np.mean(knn_accuracies))\n",
        "print(\"\\n\")\n",
        "print(\"Stacking accuracy:\",np.mean(stack_accuracies))\n",
        "# (If using a meta-model, print its average accuracy here)\n"
      ],
      "metadata": {
        "colab": {
          "base_uri": "https://localhost:8080/",
          "height": 684
        },
        "id": "4vg-xIXg9mlE",
        "outputId": "f12ae3a2-9257-4820-f61f-f27a7cab521a"
      },
      "execution_count": 50,
      "outputs": [
        {
          "output_type": "display_data",
          "data": {
            "text/plain": [
              "<Figure size 1000x600 with 1 Axes>"
            ],
            "image/png": "[encoded data removed]"
          },
          "metadata": {}
        },
        {
          "output_type": "stream",
          "name": "stdout",
          "text": [
            "Random Forest Avg Accuracy: 0.9772727272727273\n",
            "SVM Avg Accuracy: 0.9696969696969695\n",
            "Decision Tree Avg Accuracy: 0.9681818181818181\n",
            "Naive Bayes Avg Accuracy: 0.9454545454545455\n",
            "KNN Avg Accuracy: 0.9272727272727271\n",
            "\n",
            "\n",
            "Stacking accuracy: 0.9757575757575758\n"
          ]
        }
      ]
    },
    {
      "cell_type": "code",
      "source": [
        "feature_importances = best_rf_model.feature_importances_\n",
        "\n",
        "# Create a DataFrame for feature importances and their corresponding feature names\n",
        "feature_importance_df = pd.DataFrame({'Feature': X.columns, 'Importance': feature_importances})\n",
        "\n",
        "# Sort the DataFrame by importance in descending order\n",
        "feature_importance_df = feature_importance_df.sort_values(by='Importance', ascending=False)\n",
        "plt.figure(figsize=(10, 6))\n",
        "sns.barplot(x='Importance', y='Feature', data=feature_importance_df)\n",
        "plt.title('Feature Importance')\n",
        "plt.xlabel('Importance Score')\n",
        "plt.ylabel('Features')\n",
        "plt.show()\n"
      ],
      "metadata": {
        "id": "vbA8HzEQljeW",
        "outputId": "fe3563e3-9fcf-4598-aa9f-c6b4ae141770",
        "colab": {
          "base_uri": "https://localhost:8080/",
          "height": 481
        }
      },
      "execution_count": 51,
      "outputs": [
        {
          "output_type": "display_data",
          "data": {
            "text/plain": [
              "<Figure size 1000x600 with 1 Axes>"
            ],
            "image/png": "[encoded data removed]"
          },
          "metadata": {}
        }
      ]
    },
    {
      "cell_type": "code",
      "source": [
        "X_test = imputer.transform(X_test)\n",
        "rf_pred_test = best_rf_model.predict(X_test)\n",
        "svm_pred_test = svm_model.predict(X_test)\n",
        "dt_pred_test = dt_model.predict(X_test) # Use dt_pred_test instead of dt_pred_train\n",
        "nb_pred_test = nb_model.predict(X_test)\n",
        "knn_pred_test = knn_model.predict(X_test)\n",
        "\n",
        "stacked_test_features = np.column_stack((rf_pred_test, svm_pred_test,dt_pred_test,nb_pred_test,knn_pred_test))\n",
        "\n",
        "stacked_test_features_encoded = enc.transform(stacked_test_features).toarray()\n",
        "final_predictions = meta_model.predict(stacked_test_features_encoded)\n",
        "\n",
        "# 2. Confusion Matrix for Stacking Model\n",
        "cm = confusion_matrix(y_test, final_predictions)\n",
        "plt.figure(figsize=(8, 6))\n",
        "sns.heatmap(cm, annot=True, fmt='d', cmap='Blues', cbar=False)\n",
        "plt.xlabel('Predicted')\n",
        "plt.ylabel('Actual')\n",
        "plt.title('Confusion Matrix - Stacking Model')\n",
        "plt.show()\n",
        "print(\"Final Accuracy:\", accuracy_score(y_test, final_predictions))"
      ],
      "metadata": {
        "id": "kDxSPV2zov7l",
        "outputId": "d0ace501-70a1-47ff-b191-83ade726a62d",
        "colab": {
          "base_uri": "https://localhost:8080/",
          "height": 581
        }
      },
      "execution_count": 52,
      "outputs": [
        {
          "output_type": "display_data",
          "data": {
            "text/plain": [
              "<Figure size 800x600 with 1 Axes>"
            ],
            "image/png": "[encoded data removed]"
          },
          "metadata": {}
        },
        {
          "output_type": "stream",
          "name": "stdout",
          "text": [
            "Final Accuracy: 0.9717314487632509\n"
          ]
        }
      ]
    },
    {
      "cell_type": "markdown",
      "source": [],
      "metadata": {
        "id": "I2fX7g6sovrC"
      }
    },
    {
      "cell_type": "code",
      "source": [
        "accuracy = accuracy_score(y_test, final_predictions)\n",
        "precision = precision_score(y_test, final_predictions, pos_label='pass')  # Assuming 'pass' is the positive label\n",
        "recall = recall_score(y_test, final_predictions, pos_label='pass')\n",
        "f1 = f1_score(y_test, final_predictions, pos_label='pass')\n",
        "\n",
        "# For ROC-AUC, you need probability scores instead of predicted labels\n",
        "final_probabilities = meta_model.predict_proba(stacked_test_features_encoded)[:, 1]  # Probability of 'pass'\n",
        "roc_auc = roc_auc_score(y_test, final_probabilities)\n",
        "\n",
        "# Print the results\n",
        "print(f\"Accuracy: {accuracy}\")\n",
        "print(f\"Precision: {precision}\")\n",
        "print(f\"Recall: {recall}\")\n",
        "print(f\"F1 Score: {f1}\")\n",
        "print(f\"ROC-AUC Score: {roc_auc}\")\n",
        ""
      ],
      "metadata": {
        "id": "25K4NK_WtpgG",
        "outputId": "84fa01e6-1d43-4cd3-979f-9a52e8b40435",
        "colab": {
          "base_uri": "https://localhost:8080/"
        }
      },
      "execution_count": 53,
      "outputs": [
        {
          "output_type": "stream",
          "name": "stdout",
          "text": [
            "Accuracy: 0.9717314487632509\n",
            "Precision: 0.97265625\n",
            "Recall: 0.996\n",
            "F1 Score: 0.9841897233201581\n",
            "ROC-AUC Score: 0.9821212121212121\n"
          ]
        }
      ]
    },
    {
      "cell_type": "code",
      "source": [
        "\n",
        "# Calculate metrics\n",
        "y_test_encoded = y_test.map({'pass': 1, 'fail': 0})\n",
        "final_predictions_encoded = pd.Series(final_predictions).map({'pass': 1, 'fail': 0})\n",
        "accuracy = accuracy_score(y_test, final_predictions)\n",
        "precision = precision_score(y_test, final_predictions, pos_label='pass')  # Assuming 'pass' is the positive label\n",
        "recall = recall_score(y_test, final_predictions, pos_label='pass')\n",
        "f1 = f1_score(y_test, final_predictions, pos_label='pass')\n",
        "\n",
        "# For ROC-AUC, you need probability scores instead of predicted labels\n",
        "final_probabilities = meta_model.predict_proba(stacked_test_features_encoded)[:, 1]  # Probability of 'pass'\n",
        "roc_auc = roc_auc_score(y_test, final_probabilities)\n",
        "\n",
        "# Print the results\n",
        "print(f\"Accuracy: {accuracy}\")\n",
        "print(f\"Precision: {precision}\")\n",
        "print(f\"Recall: {recall}\")\n",
        "print(f\"F1 Score: {f1}\")\n",
        "print(f\"ROC-AUC Score: {roc_auc}\")"
      ],
      "metadata": {
        "id": "M9HT2vwr18Jn",
        "outputId": "9c2ca335-f263-4f32-9bca-ff023a861770",
        "colab": {
          "base_uri": "https://localhost:8080/"
        }
      },
      "execution_count": 54,
      "outputs": [
        {
          "output_type": "stream",
          "name": "stdout",
          "text": [
            "Accuracy: 0.9717314487632509\n",
            "Precision: 0.97265625\n",
            "Recall: 0.996\n",
            "F1 Score: 0.9841897233201581\n",
            "ROC-AUC Score: 0.9821212121212121\n"
          ]
        }
      ]
    }
  ]
}