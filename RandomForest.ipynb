{
  "nbformat": 4,
  "nbformat_minor": 0,
  "metadata": {
    "colab": {
      "provenance": [],
      "gpuType": "T4",
      "include_colab_link": true
    },
    "kernelspec": {
      "name": "python3",
      "display_name": "Python 3"
    },
    "language_info": {
      "name": "python"
    },
    "accelerator": "GPU"
  },
  "cells": [
    {
      "cell_type": "markdown",
      "metadata": {
        "id": "view-in-github",
        "colab_type": "text"
      },
      "source": [
        "<a href=\"https://colab.research.google.com/github/AniketJoshi111/STC-repo/blob/main/RandomForest.ipynb\" target=\"_parent\"><img src=\"https://colab.research.google.com/assets/colab-badge.svg\" alt=\"Open In Colab\"/></a>"
      ]
    },
    {
      "cell_type": "code",
      "execution_count": 1,
      "metadata": {
        "id": "Pr4Sbmsi0VKe"
      },
      "outputs": [],
      "source": [
        "import pandas as pd\n",
        "import numpy as np\n",
        "from sklearn.model_selection import train_test_split\n",
        "from sklearn.preprocessing import LabelEncoder, StandardScaler\n",
        "from sklearn.ensemble import RandomForestClassifier\n",
        "from sklearn.svm import SVC\n",
        "from sklearn.linear_model import LogisticRegression\n",
        "from sklearn.metrics import classification_report, accuracy_score\n",
        "from sklearn.linear_model import LogisticRegression\n",
        "from sklearn.preprocessing import OneHotEncoder\n",
        "from sklearn.model_selection import GridSearchCV\n",
        "from sklearn.model_selection import StratifiedKFold\n",
        "from sklearn.tree import DecisionTreeClassifier\n",
        "from sklearn.naive_bayes import GaussianNB\n",
        "from sklearn.neighbors import KNeighborsClassifier"
      ]
    },
    {
      "cell_type": "code",
      "source": [
        "from google.colab import files\n",
        "uploaded = files.upload()\n"
      ],
      "metadata": {
        "colab": {
          "base_uri": "https://localhost:8080/",
          "height": 73
        },
        "id": "kDnPTcy90zFF",
        "outputId": "301f6bb2-7818-4ac8-b6f9-d7adadcd6f92"
      },
      "execution_count": 2,
      "outputs": [
        {
          "output_type": "display_data",
          "data": {
            "text/plain": [
              "<IPython.core.display.HTML object>"
            ],
            "text/html": [
              "\n",
              "     <input type=\"file\" id=\"files-72d4c535-9cac-40ef-a526-ba5a3181ed19\" name=\"files[]\" multiple disabled\n",
              "        style=\"border:none\" />\n",
              "     <output id=\"result-72d4c535-9cac-40ef-a526-ba5a3181ed19\">\n",
              "      Upload widget is only available when the cell has been executed in the\n",
              "      current browser session. Please rerun this cell to enable.\n",
              "      </output>\n",
              "      <script>// Copyright 2017 Google LLC\n",
              "//\n",
              "// Licensed under the Apache License, Version 2.0 (the \"License\");\n",
              "// you may not use this file except in compliance with the License.\n",
              "// You may obtain a copy of the License at\n",
              "//\n",
              "//      http://www.apache.org/licenses/LICENSE-2.0\n",
              "//\n",
              "// Unless required by applicable law or agreed to in writing, software\n",
              "// distributed under the License is distributed on an \"AS IS\" BASIS,\n",
              "// WITHOUT WARRANTIES OR CONDITIONS OF ANY KIND, either express or implied.\n",
              "// See the License for the specific language governing permissions and\n",
              "// limitations under the License.\n",
              "\n",
              "/**\n",
              " * @fileoverview Helpers for google.colab Python module.\n",
              " */\n",
              "(function(scope) {\n",
              "function span(text, styleAttributes = {}) {\n",
              "  const element = document.createElement('span');\n",
              "  element.textContent = text;\n",
              "  for (const key of Object.keys(styleAttributes)) {\n",
              "    element.style[key] = styleAttributes[key];\n",
              "  }\n",
              "  return element;\n",
              "}\n",
              "\n",
              "// Max number of bytes which will be uploaded at a time.\n",
              "const MAX_PAYLOAD_SIZE = 100 * 1024;\n",
              "\n",
              "function _uploadFiles(inputId, outputId) {\n",
              "  const steps = uploadFilesStep(inputId, outputId);\n",
              "  const outputElement = document.getElementById(outputId);\n",
              "  // Cache steps on the outputElement to make it available for the next call\n",
              "  // to uploadFilesContinue from Python.\n",
              "  outputElement.steps = steps;\n",
              "\n",
              "  return _uploadFilesContinue(outputId);\n",
              "}\n",
              "\n",
              "// This is roughly an async generator (not supported in the browser yet),\n",
              "// where there are multiple asynchronous steps and the Python side is going\n",
              "// to poll for completion of each step.\n",
              "// This uses a Promise to block the python side on completion of each step,\n",
              "// then passes the result of the previous step as the input to the next step.\n",
              "function _uploadFilesContinue(outputId) {\n",
              "  const outputElement = document.getElementById(outputId);\n",
              "  const steps = outputElement.steps;\n",
              "\n",
              "  const next = steps.next(outputElement.lastPromiseValue);\n",
              "  return Promise.resolve(next.value.promise).then((value) => {\n",
              "    // Cache the last promise value to make it available to the next\n",
              "    // step of the generator.\n",
              "    outputElement.lastPromiseValue = value;\n",
              "    return next.value.response;\n",
              "  });\n",
              "}\n",
              "\n",
              "/**\n",
              " * Generator function which is called between each async step of the upload\n",
              " * process.\n",
              " * @param {string} inputId Element ID of the input file picker element.\n",
              " * @param {string} outputId Element ID of the output display.\n",
              " * @return {!Iterable<!Object>} Iterable of next steps.\n",
              " */\n",
              "function* uploadFilesStep(inputId, outputId) {\n",
              "  const inputElement = document.getElementById(inputId);\n",
              "  inputElement.disabled = false;\n",
              "\n",
              "  const outputElement = document.getElementById(outputId);\n",
              "  outputElement.innerHTML = '';\n",
              "\n",
              "  const pickedPromise = new Promise((resolve) => {\n",
              "    inputElement.addEventListener('change', (e) => {\n",
              "      resolve(e.target.files);\n",
              "    });\n",
              "  });\n",
              "\n",
              "  const cancel = document.createElement('button');\n",
              "  inputElement.parentElement.appendChild(cancel);\n",
              "  cancel.textContent = 'Cancel upload';\n",
              "  const cancelPromise = new Promise((resolve) => {\n",
              "    cancel.onclick = () => {\n",
              "      resolve(null);\n",
              "    };\n",
              "  });\n",
              "\n",
              "  // Wait for the user to pick the files.\n",
              "  const files = yield {\n",
              "    promise: Promise.race([pickedPromise, cancelPromise]),\n",
              "    response: {\n",
              "      action: 'starting',\n",
              "    }\n",
              "  };\n",
              "\n",
              "  cancel.remove();\n",
              "\n",
              "  // Disable the input element since further picks are not allowed.\n",
              "  inputElement.disabled = true;\n",
              "\n",
              "  if (!files) {\n",
              "    return {\n",
              "      response: {\n",
              "        action: 'complete',\n",
              "      }\n",
              "    };\n",
              "  }\n",
              "\n",
              "  for (const file of files) {\n",
              "    const li = document.createElement('li');\n",
              "    li.append(span(file.name, {fontWeight: 'bold'}));\n",
              "    li.append(span(\n",
              "        `(${file.type || 'n/a'}) - ${file.size} bytes, ` +\n",
              "        `last modified: ${\n",
              "            file.lastModifiedDate ? file.lastModifiedDate.toLocaleDateString() :\n",
              "                                    'n/a'} - `));\n",
              "    const percent = span('0% done');\n",
              "    li.appendChild(percent);\n",
              "\n",
              "    outputElement.appendChild(li);\n",
              "\n",
              "    const fileDataPromise = new Promise((resolve) => {\n",
              "      const reader = new FileReader();\n",
              "      reader.onload = (e) => {\n",
              "        resolve(e.target.result);\n",
              "      };\n",
              "      reader.readAsArrayBuffer(file);\n",
              "    });\n",
              "    // Wait for the data to be ready.\n",
              "    let fileData = yield {\n",
              "      promise: fileDataPromise,\n",
              "      response: {\n",
              "        action: 'continue',\n",
              "      }\n",
              "    };\n",
              "\n",
              "    // Use a chunked sending to avoid message size limits. See b/62115660.\n",
              "    let position = 0;\n",
              "    do {\n",
              "      const length = Math.min(fileData.byteLength - position, MAX_PAYLOAD_SIZE);\n",
              "      const chunk = new Uint8Array(fileData, position, length);\n",
              "      position += length;\n",
              "\n",
              "      const base64 = btoa(String.fromCharCode.apply(null, chunk));\n",
              "      yield {\n",
              "        response: {\n",
              "          action: 'append',\n",
              "          file: file.name,\n",
              "          data: base64,\n",
              "        },\n",
              "      };\n",
              "\n",
              "      let percentDone = fileData.byteLength === 0 ?\n",
              "          100 :\n",
              "          Math.round((position / fileData.byteLength) * 100);\n",
              "      percent.textContent = `${percentDone}% done`;\n",
              "\n",
              "    } while (position < fileData.byteLength);\n",
              "  }\n",
              "\n",
              "  // All done.\n",
              "  yield {\n",
              "    response: {\n",
              "      action: 'complete',\n",
              "    }\n",
              "  };\n",
              "}\n",
              "\n",
              "scope.google = scope.google || {};\n",
              "scope.google.colab = scope.google.colab || {};\n",
              "scope.google.colab._files = {\n",
              "  _uploadFiles,\n",
              "  _uploadFilesContinue,\n",
              "};\n",
              "})(self);\n",
              "</script> "
            ]
          },
          "metadata": {}
        },
        {
          "output_type": "stream",
          "name": "stdout",
          "text": [
            "Saving preprocessed_stc.csv to preprocessed_stc.csv\n"
          ]
        }
      ]
    },
    {
      "cell_type": "code",
      "source": [
        "data = pd.read_csv('preprocessed_stc.csv')\n",
        "print(data.head())\n"
      ],
      "metadata": {
        "colab": {
          "base_uri": "https://localhost:8080/"
        },
        "id": "gHvbB7AM1Gno",
        "outputId": "53edae75-c715-4d42-beee-5e649dd9b41a"
      },
      "execution_count": 3,
      "outputs": [
        {
          "output_type": "stream",
          "name": "stdout",
          "text": [
            "  Previous_Grades  Attendance Class_Participation  Study_Hours  \\\n",
            "0               A          81              Medium          8.0   \n",
            "1               C          93              Medium         12.0   \n",
            "2               A          86                 Low         15.0   \n",
            "3               A          84                 Low         13.0   \n",
            "4               C          73                High         10.0   \n",
            "\n",
            "  Financial_Status School_Environment Professor_Quality  Screen_Time Tutoring  \\\n",
            "0              Low           Negative            Medium          3.0      Yes   \n",
            "1              Low           Positive            Medium          7.0       No   \n",
            "2           Medium           Positive              High          9.0      Yes   \n",
            "3             High           Positive              High          5.0       No   \n",
            "4              Low           Positive              High          2.0       No   \n",
            "\n",
            "  Lack_of_Interest  Time_Wasted_on_Social_Media Grades  \n",
            "0              Low                            2      B  \n",
            "1              Low                            2      A  \n",
            "2              Low                            3      C  \n",
            "3             High                            5      A  \n",
            "4              Low                            4      B  \n"
          ]
        }
      ]
    },
    {
      "cell_type": "code",
      "source": [
        "print(data.isnull().sum())\n"
      ],
      "metadata": {
        "colab": {
          "base_uri": "https://localhost:8080/"
        },
        "id": "GXdpoVaw1IYT",
        "outputId": "c05d12b8-e617-4b64-bf8d-7682d63bc856"
      },
      "execution_count": 4,
      "outputs": [
        {
          "output_type": "stream",
          "name": "stdout",
          "text": [
            "Previous_Grades                1\n",
            "Attendance                     0\n",
            "Class_Participation            0\n",
            "Study_Hours                    1\n",
            "Financial_Status               0\n",
            "School_Environment             0\n",
            "Professor_Quality              0\n",
            "Screen_Time                    2\n",
            "Tutoring                       2\n",
            "Lack_of_Interest               0\n",
            "Time_Wasted_on_Social_Media    0\n",
            "Grades                         3\n",
            "dtype: int64\n"
          ]
        }
      ]
    },
    {
      "cell_type": "code",
      "source": [
        "data = data.dropna(subset=['Previous_Grades', 'Study_Hours', 'Screen_Time', 'Tutoring', 'Grades'])\n"
      ],
      "metadata": {
        "id": "lei6huj21fTD"
      },
      "execution_count": 5,
      "outputs": []
    },
    {
      "cell_type": "code",
      "source": [
        "categorical_cols = data.select_dtypes(include=['object']).columns.tolist()\n",
        "categorical_cols.remove('Grades')\n",
        "#removed grades becoz it will be used for testing\n"
      ],
      "metadata": {
        "id": "BGsew3XW1hgi"
      },
      "execution_count": 6,
      "outputs": []
    },
    {
      "cell_type": "code",
      "source": [
        "categorical_cols = data.select_dtypes(include=['object']).columns.tolist()\n",
        "categorical_cols.remove('Grades')\n"
      ],
      "metadata": {
        "id": "Fr064Emv1jj9"
      },
      "execution_count": 7,
      "outputs": []
    },
    {
      "cell_type": "code",
      "source": [
        "le = LabelEncoder()\n",
        "for col in categorical_cols:\n",
        "    data[col] = le.fit_transform(data[col])"
      ],
      "metadata": {
        "id": "FEDroWdY1lJ8"
      },
      "execution_count": 8,
      "outputs": []
    },
    {
      "cell_type": "code",
      "source": [
        "X = data.drop('Grades', axis=1)\n",
        "y = data['Grades']\n"
      ],
      "metadata": {
        "id": "cJYFqTPj1m8j"
      },
      "execution_count": 9,
      "outputs": []
    },
    {
      "cell_type": "code",
      "source": [
        "X_train, X_test, y_train, y_test = train_test_split(X, y, test_size=0.5, random_state=42)\n"
      ],
      "metadata": {
        "id": "mliJgisg1qB6"
      },
      "execution_count": 10,
      "outputs": []
    },
    {
      "cell_type": "markdown",
      "source": [],
      "metadata": {
        "id": "gYTrrSvxNwL5"
      }
    },
    {
      "cell_type": "code",
      "source": [
        "scaler = StandardScaler()\n",
        "X_train = scaler.fit_transform(X_train)\n",
        "X_test = scaler.transform(X_test)\n"
      ],
      "metadata": {
        "id": "-bJiBLMH1swF"
      },
      "execution_count": 11,
      "outputs": []
    },
    {
      "cell_type": "code",
      "source": [
        "best_rf_model = RandomForestClassifier(n_estimators=100, random_state=42)\n",
        "svm_model = SVC(kernel='rbf',probability=True)\n",
        "\n",
        "# Train a third model (e.g., Decision Tree)\n",
        "dt_model = DecisionTreeClassifier(criterion='entropy',max_depth=10)\n",
        "\n",
        "nb_model = GaussianNB(var_smoothing=1.0)\n",
        "knn_model = KNeighborsClassifier(weights='uniform',n_neighbors=11,metric=\"euclidean\",algorithm='auto')\n",
        "\n",
        "#meta model\n",
        "meta_model = LogisticRegression()\n",
        "\n",
        "#meta model : Logisitic regression\n",
        "\n",
        "enc = OneHotEncoder(handle_unknown='ignore')\n"
      ],
      "metadata": {
        "id": "jBoH2E161ujr"
      },
      "execution_count": 27,
      "outputs": []
    },
    {
      "cell_type": "code",
      "source": [
        "\n",
        "\n",
        "# Initialize StratifiedKFold with 10 splits\n",
        "skf = StratifiedKFold(n_splits=10, shuffle=True, random_state=42)\n",
        "\n",
        "\n",
        "# Arrays to store fold accuracies\n",
        "rf_accuracies = []\n",
        "svm_accuracies = []\n",
        "dt_accuracies = []\n",
        "nb_accuracies = []\n",
        "knn_accuracies = []\n",
        "stack_accuracies = []\n",
        "\n",
        "# Loop through each fold\n",
        "for train_index, test_index in skf.split(X_train, y_train):\n",
        "    # Split the data into training and testing sets for this fold\n",
        "    X_train_fold, X_test_fold = X_train[train_index], X_train[test_index]\n",
        "    y_train_fold, y_test_fold = y_train.iloc[train_index], y_train.iloc[test_index]\n",
        "\n",
        "    # Train each model on the training fold\n",
        "    best_rf_model.fit(X_train_fold, y_train_fold)\n",
        "    svm_model.fit(X_train_fold, y_train_fold)\n",
        "    dt_model.fit(X_train_fold, y_train_fold)\n",
        "    nb_model.fit(X_train_fold, y_train_fold)\n",
        "    knn_model.fit(X_train_fold, y_train_fold)\n",
        "\n",
        "\n",
        "    # Make predictions on the test fold\n",
        "    rf_pred = best_rf_model.predict(X_test_fold)\n",
        "    svm_pred = svm_model.predict(X_test_fold)\n",
        "    dt_pred = dt_model.predict(X_test_fold)\n",
        "    nb_pred = nb_model.predict(X_test_fold)\n",
        "    knn_pred = knn_model.predict(X_test_fold)\n",
        "\n",
        "\n",
        "    # Make predictions on the training fold for the meta-model\n",
        "    rf_pred_train = best_rf_model.predict(X_train_fold)\n",
        "    svm_pred_train = svm_model.predict(X_train_fold)\n",
        "    dt_pred_train = dt_model.predict(X_train_fold)\n",
        "    nb_pred_train = nb_model.predict(X_train_fold)\n",
        "    knn_pred_train = knn_model.predict(X_train_fold)\n",
        "\n",
        "    # Stack the predictions\n",
        "    stacked_features_train = np.column_stack((rf_pred_train, svm_pred_train, dt_pred_train,nb_pred_train,knn_pred_train))\n",
        "\n",
        "    # Encode the stacked features\n",
        "\n",
        "    stacked_features_encoded_train = enc.fit_transform(stacked_features_train).toarray()\n",
        "\n",
        "\n",
        "    stacked_features = np.column_stack((rf_pred, svm_pred, dt_pred,nb_pred,knn_pred))\n",
        "\n",
        "    # Encode the stacked features for the test fold\n",
        "    stacked_features_encoded = enc.transform(stacked_features).toarray()\n",
        "\n",
        "\n",
        "    # meta_model.fit(stacked_features_encoded, y_train_fold)\n",
        "\n",
        "    # meta_pred = meta_model.predict(stacked_features_encoded)\n",
        "\n",
        "    # Calculate stacking accuracy and store it\n",
        "\n",
        "    rf_accuracy = accuracy_score(y_test_fold, rf_pred)\n",
        "    svm_accuracy = accuracy_score(y_test_fold, svm_pred)\n",
        "    dt_accuracy = accuracy_score(y_test_fold, dt_pred)\n",
        "    nb_accuracy = accuracy_score(y_test_fold, nb_pred)\n",
        "    knn_accuracy = accuracy_score(y_test_fold, knn_pred)\n",
        "    #stack_accuracy = accuracy_score(y_test_fold, meta_pred)\n",
        "\n",
        "\n",
        "    rf_accuracies.append(rf_accuracy)\n",
        "    svm_accuracies.append(svm_accuracy)\n",
        "    dt_accuracies.append(dt_accuracy)\n",
        "    nb_accuracies.append(nb_accuracy)\n",
        "    knn_accuracies.append(knn_accuracy)\n",
        "    #stack_accuracies.append(stack_accuracy)\n",
        "\n",
        "print(\"Random Forest Avg Accuracy:\", np.mean(rf_accuracies))\n",
        "print(\"SVM Avg Accuracy:\", np.mean(svm_accuracies))\n",
        "print(\"Decision Tree Avg Accuracy:\", np.mean(dt_accuracies))\n",
        "print(\"Naive Bayes Avg Accuracy:\", np.mean(nb_accuracies))\n",
        "print(\"KNN Avg Accuracy:\", np.mean(knn_accuracies))\n",
        "#print(\"Stacking accuracy:\",np.mean(stack_accuracies))\n",
        "# (If using a meta-model, print its average accuracy here)\n"
      ],
      "metadata": {
        "colab": {
          "base_uri": "https://localhost:8080/"
        },
        "id": "4vg-xIXg9mlE",
        "outputId": "cf87e136-f203-4802-934d-9d4ce9311a73"
      },
      "execution_count": 29,
      "outputs": [
        {
          "output_type": "stream",
          "name": "stdout",
          "text": [
            "Random Forest Avg Accuracy: 0.32368856744510277\n",
            "SVM Avg Accuracy: 0.32101777622865113\n",
            "Decision Tree Avg Accuracy: 0.3210700592540955\n",
            "Naive Bayes Avg Accuracy: 0.29933339142558385\n",
            "KNN Avg Accuracy: 0.3388506448239805\n"
          ]
        }
      ]
    },
    {
      "cell_type": "code",
      "source": [
        "rf_pred_test = best_rf_model.predict(X_test)\n",
        "svm_pred_test = svm_model.predict(X_test)\n",
        "dt_pred_test = dt_model.predict(X_test)\n",
        "nb_pred_test = nb_model.predict(X_test)\n",
        "knn_pred_test = knn_model.predict(X_test)\n",
        "\n",
        "stacked_test_features = np.column_stack((rf_pred_test, svm_pred_test,dt_pred_train,nb_pred_test,knn_pred_test))\n",
        "\n",
        "stacked_test_features_encoded = enc.transform(stacked_test_features).toarray()\n",
        "final_predictions = meta_model.predict(stacked_test_features)\n",
        "print(\"Final Accuracy:\", accuracy_score(y_test, final_predictions))"
      ],
      "metadata": {
        "colab": {
          "base_uri": "https://localhost:8080/",
          "height": 367
        },
        "id": "p8kc7rEu0956",
        "outputId": "3ae50f38-f453-4b93-ab91-66799cf0adeb"
      },
      "execution_count": 33,
      "outputs": [
        {
          "output_type": "error",
          "ename": "ValueError",
          "evalue": "all the input array dimensions except for the concatenation axis must match exactly, but along dimension 0, the array at index 0 has size 1517 and the array at index 2 has size 1366",
          "traceback": [
            "\u001b[0;31m---------------------------------------------------------------------------\u001b[0m",
            "\u001b[0;31mValueError\u001b[0m                                Traceback (most recent call last)",
            "\u001b[0;32m<ipython-input-33-97920b1cd532>\u001b[0m in \u001b[0;36m<cell line: 7>\u001b[0;34m()\u001b[0m\n\u001b[1;32m      5\u001b[0m \u001b[0mknn_pred_test\u001b[0m \u001b[0;34m=\u001b[0m \u001b[0mknn_model\u001b[0m\u001b[0;34m.\u001b[0m\u001b[0mpredict\u001b[0m\u001b[0;34m(\u001b[0m\u001b[0mX_test\u001b[0m\u001b[0;34m)\u001b[0m\u001b[0;34m\u001b[0m\u001b[0;34m\u001b[0m\u001b[0m\n\u001b[1;32m      6\u001b[0m \u001b[0;34m\u001b[0m\u001b[0m\n\u001b[0;32m----> 7\u001b[0;31m \u001b[0mstacked_test_features\u001b[0m \u001b[0;34m=\u001b[0m \u001b[0mnp\u001b[0m\u001b[0;34m.\u001b[0m\u001b[0mcolumn_stack\u001b[0m\u001b[0;34m(\u001b[0m\u001b[0;34m(\u001b[0m\u001b[0mrf_pred_test\u001b[0m\u001b[0;34m,\u001b[0m \u001b[0msvm_pred_test\u001b[0m\u001b[0;34m,\u001b[0m\u001b[0mdt_pred_train\u001b[0m\u001b[0;34m,\u001b[0m\u001b[0mnb_pred_test\u001b[0m\u001b[0;34m,\u001b[0m\u001b[0mknn_pred_test\u001b[0m\u001b[0;34m)\u001b[0m\u001b[0;34m)\u001b[0m\u001b[0;34m\u001b[0m\u001b[0;34m\u001b[0m\u001b[0m\n\u001b[0m\u001b[1;32m      8\u001b[0m \u001b[0;34m\u001b[0m\u001b[0m\n\u001b[1;32m      9\u001b[0m \u001b[0mstacked_test_features_encoded\u001b[0m \u001b[0;34m=\u001b[0m \u001b[0menc\u001b[0m\u001b[0;34m.\u001b[0m\u001b[0mtransform\u001b[0m\u001b[0;34m(\u001b[0m\u001b[0mstacked_test_features\u001b[0m\u001b[0;34m)\u001b[0m\u001b[0;34m.\u001b[0m\u001b[0mtoarray\u001b[0m\u001b[0;34m(\u001b[0m\u001b[0;34m)\u001b[0m\u001b[0;34m\u001b[0m\u001b[0;34m\u001b[0m\u001b[0m\n",
            "\u001b[0;32m/usr/local/lib/python3.10/dist-packages/numpy/lib/shape_base.py\u001b[0m in \u001b[0;36mcolumn_stack\u001b[0;34m(tup)\u001b[0m\n\u001b[1;32m    650\u001b[0m             \u001b[0marr\u001b[0m \u001b[0;34m=\u001b[0m \u001b[0marray\u001b[0m\u001b[0;34m(\u001b[0m\u001b[0marr\u001b[0m\u001b[0;34m,\u001b[0m \u001b[0mcopy\u001b[0m\u001b[0;34m=\u001b[0m\u001b[0;32mFalse\u001b[0m\u001b[0;34m,\u001b[0m \u001b[0msubok\u001b[0m\u001b[0;34m=\u001b[0m\u001b[0;32mTrue\u001b[0m\u001b[0;34m,\u001b[0m \u001b[0mndmin\u001b[0m\u001b[0;34m=\u001b[0m\u001b[0;36m2\u001b[0m\u001b[0;34m)\u001b[0m\u001b[0;34m.\u001b[0m\u001b[0mT\u001b[0m\u001b[0;34m\u001b[0m\u001b[0;34m\u001b[0m\u001b[0m\n\u001b[1;32m    651\u001b[0m         \u001b[0marrays\u001b[0m\u001b[0;34m.\u001b[0m\u001b[0mappend\u001b[0m\u001b[0;34m(\u001b[0m\u001b[0marr\u001b[0m\u001b[0;34m)\u001b[0m\u001b[0;34m\u001b[0m\u001b[0;34m\u001b[0m\u001b[0m\n\u001b[0;32m--> 652\u001b[0;31m     \u001b[0;32mreturn\u001b[0m \u001b[0m_nx\u001b[0m\u001b[0;34m.\u001b[0m\u001b[0mconcatenate\u001b[0m\u001b[0;34m(\u001b[0m\u001b[0marrays\u001b[0m\u001b[0;34m,\u001b[0m \u001b[0;36m1\u001b[0m\u001b[0;34m)\u001b[0m\u001b[0;34m\u001b[0m\u001b[0;34m\u001b[0m\u001b[0m\n\u001b[0m\u001b[1;32m    653\u001b[0m \u001b[0;34m\u001b[0m\u001b[0m\n\u001b[1;32m    654\u001b[0m \u001b[0;34m\u001b[0m\u001b[0m\n",
            "\u001b[0;31mValueError\u001b[0m: all the input array dimensions except for the concatenation axis must match exactly, but along dimension 0, the array at index 0 has size 1517 and the array at index 2 has size 1366"
          ]
        }
      ]
    },
    {
      "cell_type": "markdown",
      "source": [],
      "metadata": {
        "id": "heAp9I4YRU1E"
      }
    },
    {
      "cell_type": "code",
      "source": [
        "importances = model.feature_importances_\n",
        "feature_importance = pd.Series(importances, index=X.columns)\n",
        "feature_importance.nlargest(10).plot(kind='barh')\n",
        "\n"
      ],
      "metadata": {
        "id": "T6ILOQl-1xnl"
      },
      "execution_count": null,
      "outputs": []
    },
    {
      "cell_type": "code",
      "source": [
        "# Remove the mean_squared_error and r2_score calculation as they are not appropriate for classification problems\n",
        "# Predictions\n",
        "y_pred = model.predict(X_test)\n",
        "\n",
        "\n",
        "# Print the results you have already calculated in the previous code block\n",
        "print(\"Accuracy:\", accuracy_score(y_test, y_pred))\n"
      ],
      "metadata": {
        "id": "ocdmQM5u10Qe"
      },
      "execution_count": null,
      "outputs": []
    },
    {
      "cell_type": "code",
      "source": [],
      "metadata": {
        "id": "M9HT2vwr18Jn"
      },
      "execution_count": null,
      "outputs": []
    }
  ]
}